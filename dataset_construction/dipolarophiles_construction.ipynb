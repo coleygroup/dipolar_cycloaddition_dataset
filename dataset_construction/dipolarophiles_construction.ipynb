{
 "cells": [
  {
   "cell_type": "code",
   "execution_count": 1,
   "metadata": {},
   "outputs": [],
   "source": [
    "import pandas as pd\n",
    "from rdkit import Chem\n",
    "from rdkit.Chem import Draw\n",
    "from itertools import combinations_with_replacement\n",
    "import pandas as pd\n",
    "import random\n",
    "import itertools\n",
    "import re\n",
    "from rdkit.Chem.EnumerateStereoisomers import EnumerateStereoisomers, StereoEnumerationOptions"
   ]
  },
  {
   "cell_type": "code",
   "execution_count": 2,
   "metadata": {},
   "outputs": [],
   "source": [
    "# substituent list\n",
    "subs_list_LR = ['C', 'F', 'Cl', 'Br', 'C#N', 'C(=O)OC', 'C(=O)C', 'C(=O)NC', \n",
    "                'c1ccccc1', 'N', 'C(F)(F)F', None]"
   ]
  },
  {
   "cell_type": "code",
   "execution_count": 3,
   "metadata": {},
   "outputs": [],
   "source": [
    "# auxiliary functions\n",
    "def generate_dipolarophiles(smiles):\n",
    "    mol = Chem.MolFromSmiles(smiles)\n",
    "    return Chem.MolToSmiles(mol)\n",
    "\n",
    "def single_edit_mol(mol, label, subs):\n",
    "    if subs != None:\n",
    "        mod_mol = Chem.ReplaceSubstructs(mol, Chem.MolFromSmiles(label), Chem.MolFromSmiles(subs))[0]\n",
    "    else: \n",
    "        mod_mol = Chem.DeleteSubstructs(mol, Chem.MolFromSmiles(label))\n",
    "    return mod_mol\n",
    "\n",
    "def modify_mol(dipole, subs_comb_LR, labels):\n",
    "    mol = Chem.MolFromSmiles(dipole)\n",
    "    mod_mol = single_edit_mol(mol, labels[0],subs_comb_LR[0])\n",
    "    for i, subs in enumerate(subs_comb_LR[1:]):\n",
    "        mod_mol = single_edit_mol(mod_mol, labels[i + 1], subs)\n",
    "    \n",
    "    return Chem.MolFromSmiles(Chem.MolToSmiles(mod_mol))"
   ]
  },
  {
   "cell_type": "code",
   "execution_count": 4,
   "metadata": {},
   "outputs": [],
   "source": [
    "# generate all ethylene-based dipolarophiles\n",
    "dipolarophile = 'C(*)(*)=C(*)(*)'\n",
    "labels = ['[Ti]', '[Cr]', '[Mn]', '[Fe]']\n",
    "connectable_substituents = set(['C', 'C(=O)OC', 'C(=O)C', 'C(=O)NC', 'c1ccccc1', 'N'])\n",
    "generated_full_dipolarophiles = []\n",
    "\n",
    "valency_indices = [valency.start() for valency in re.finditer('\\(\\*\\)', dipolarophile)]\n",
    "for i in range(len(valency_indices)):\n",
    "    dipolarophile = dipolarophile.replace('*', labels[i], 1)\n",
    "substituent_combs = itertools.product(subs_list_LR, repeat = len(valency_indices))\n",
    "for subs_comb in substituent_combs:\n",
    "    if connectable_substituents.intersection(subs_comb) != set(): # make sure at least one substituent is connectable\n",
    "        if len(set(subs_comb)) == len(subs_comb) - 2: # make sure there are only two different type of substituents\n",
    "            generated_full_dipolarophiles.append(modify_mol(dipolarophile, subs_comb, labels))\n",
    "    else:\n",
    "        continue"
   ]
  },
  {
   "cell_type": "code",
   "execution_count": 5,
   "metadata": {
    "scrolled": true
   },
   "outputs": [
    {
     "name": "stdout",
     "output_type": "stream",
     "text": [
      "255\n"
     ]
    }
   ],
   "source": [
    "full_dipolarophile_set = set(list(map(lambda x: Chem.MolToSmiles(x), generated_full_dipolarophiles)))\n",
    "dipolarophiles_ethylene = set()\n",
    "\n",
    "for full_dipolarophile in full_dipolarophile_set:\n",
    "    isomers = tuple(EnumerateStereoisomers(Chem.MolFromSmiles(full_dipolarophile)))\n",
    "    for smi in set(list(map(lambda x: Chem.MolToSmiles(x), isomers))):\n",
    "        dipolarophiles_ethylene.add(smi)\n",
    "\n",
    "print(len(dipolarophiles_ethylene))"
   ]
  },
  {
   "cell_type": "code",
   "execution_count": 6,
   "metadata": {},
   "outputs": [],
   "source": [
    "# generate all acetylene-based dipolarophiles\n",
    "dipolarophile = 'C(*)#C(*)'\n",
    "connectable_substituents = set(['C', 'C(=O)OC', 'C(=O)C', 'C(=O)NC', 'c1ccccc1', 'N'])\n",
    "generated_full_dipolarophiles = []\n",
    "\n",
    "valency_indices = [valency.start() for valency in re.finditer('\\(\\*\\)', dipolarophile)]\n",
    "for i in range(len(valency_indices)):\n",
    "    dipolarophile = dipolarophile.replace('*', labels[i], 1)\n",
    "substituent_combs = itertools.product(subs_list_LR, repeat = len(valency_indices))\n",
    "for subs_comb in substituent_combs:\n",
    "    if connectable_substituents.intersection(subs_comb) != set(): # make sure at least one substituent is connectable\n",
    "        generated_full_dipolarophiles.append(modify_mol(dipolarophile, subs_comb, labels))\n",
    "    else:\n",
    "        continue"
   ]
  },
  {
   "cell_type": "code",
   "execution_count": 7,
   "metadata": {},
   "outputs": [
    {
     "name": "stdout",
     "output_type": "stream",
     "text": [
      "57\n"
     ]
    }
   ],
   "source": [
    "full_dipolarophile_set = set(list(map(lambda x: Chem.MolToSmiles(x), generated_full_dipolarophiles)))\n",
    "dipolarophiles_acetylene = set()\n",
    "\n",
    "for full_dipolarophile in full_dipolarophile_set:\n",
    "    isomers = tuple(EnumerateStereoisomers(Chem.MolFromSmiles(full_dipolarophile)))\n",
    "    for smi in set(list(map(lambda x: Chem.MolToSmiles(x), isomers))):\n",
    "        dipolarophiles_acetylene.add(smi)\n",
    "\n",
    "print(len(dipolarophiles_acetylene))"
   ]
  },
  {
   "cell_type": "code",
   "execution_count": 8,
   "metadata": {},
   "outputs": [],
   "source": [
    "# generate all norbornen-based dipolarophiles\n",
    "dipolarophile = 'C(*)1=C(*)C2CCC1C2'\n",
    "connectable_substituents = set(['C', 'C(=O)OC', 'C(=O)C', 'C(=O)NC', 'c1ccccc1', 'N'])\n",
    "generated_full_dipolarophiles = []\n",
    "\n",
    "valency_indices = [valency.start() for valency in re.finditer('\\(\\*\\)', dipolarophile)]\n",
    "for i in range(len(valency_indices)):\n",
    "    dipolarophile = dipolarophile.replace('*', labels[i], 1)\n",
    "substituent_combs = itertools.product(subs_list_LR, repeat = len(valency_indices))\n",
    "for subs_comb in substituent_combs:\n",
    "    generated_full_dipolarophiles.append(modify_mol(dipolarophile, subs_comb, labels))"
   ]
  },
  {
   "cell_type": "code",
   "execution_count": 9,
   "metadata": {},
   "outputs": [
    {
     "name": "stdout",
     "output_type": "stream",
     "text": [
      "78\n"
     ]
    }
   ],
   "source": [
    "full_dipolarophile_set = set(list(map(lambda x: Chem.MolToSmiles(x), generated_full_dipolarophiles)))\n",
    "dipolarophiles_norbornene = set()\n",
    "\n",
    "for full_dipolarophile in full_dipolarophile_set:\n",
    "    dipolarophiles_norbornene.add(full_dipolarophile)\n",
    "\n",
    "print(len(dipolarophiles_norbornene))"
   ]
  },
  {
   "cell_type": "code",
   "execution_count": 10,
   "metadata": {},
   "outputs": [],
   "source": [
    "# generate all oxo-norbornadiene-based dipolarophiles\n",
    "dipolarophile = 'C(*)1=C(*)C2C=CC1O2'\n",
    "generated_full_dipolarophiles = []\n",
    "\n",
    "valency_indices = [valency.start() for valency in re.finditer('\\(\\*\\)', dipolarophile)]\n",
    "for i in range(len(valency_indices)):\n",
    "    dipolarophile = dipolarophile.replace('*', labels[i], 1)\n",
    "substituent_combs = itertools.product(subs_list_LR, repeat = len(valency_indices))\n",
    "\n",
    "for subs_comb in substituent_combs:\n",
    "    generated_full_dipolarophiles.append(modify_mol(dipolarophile, subs_comb, labels))"
   ]
  },
  {
   "cell_type": "code",
   "execution_count": 11,
   "metadata": {},
   "outputs": [
    {
     "name": "stdout",
     "output_type": "stream",
     "text": [
      "78\n"
     ]
    }
   ],
   "source": [
    "full_dipolarophile_set = set(list(map(lambda x: Chem.MolToSmiles(x), generated_full_dipolarophiles)))\n",
    "dipolarophiles_oxonorbornadiene = set()\n",
    "\n",
    "for full_dipolarophile in full_dipolarophile_set:\n",
    "    dipolarophiles_oxonorbornadiene.add(full_dipolarophile)\n",
    "\n",
    "print(len(dipolarophiles_oxonorbornadiene))"
   ]
  },
  {
   "cell_type": "code",
   "execution_count": 12,
   "metadata": {},
   "outputs": [],
   "source": [
    "# generate all cyclooctyne-based dipolarophiles\n",
    "dipolarophile = f'C1CCC(*)(*)C#CC(*)(*)C1'\n",
    "generated_full_dipolarophiles = []\n",
    "\n",
    "valency_indices = [valency.start() for valency in re.finditer('\\(\\*\\)', dipolarophile)]\n",
    "for i in range(len(valency_indices)):\n",
    "    dipolarophile = dipolarophile.replace('*', labels[i], 1)\n",
    "substituent_combs = itertools.product(subs_list_LR, repeat = len(valency_indices))\n",
    "\n",
    "for subs_comb in substituent_combs:\n",
    "    if subs_comb[0] == subs_comb[1] or subs_comb[2] == subs_comb[3]: # make sure the reactant is achiral\n",
    "    # if len(set(subs_comb)) != len(subs_comb): # make sure there are only two different type of substituents\n",
    "        generated_full_dipolarophiles.append(modify_mol(dipolarophile, subs_comb, labels))"
   ]
  },
  {
   "cell_type": "code",
   "execution_count": 14,
   "metadata": {},
   "outputs": [
    {
     "name": "stdout",
     "output_type": "stream",
     "text": [
      "870\n"
     ]
    }
   ],
   "source": [
    "full_dipolarophile_set = set(list(map(lambda x: Chem.MolToSmiles(x), generated_full_dipolarophiles)))\n",
    "dipolarophiles_cyclooctyne = set()\n",
    "\n",
    "for full_dipolarophile in full_dipolarophile_set:\n",
    "    dipolarophiles_cyclooctyne.add(full_dipolarophile)\n",
    "\n",
    "print(len(dipolarophiles_cyclooctyne))"
   ]
  },
  {
   "cell_type": "code",
   "execution_count": 15,
   "metadata": {},
   "outputs": [],
   "source": [
    "# turn lists into dataframes\n",
    "df_ethylene = pd.DataFrame(list(dipolarophiles_ethylene))\n",
    "df_acetylene = pd.DataFrame(list(dipolarophiles_acetylene))\n",
    "df_norbornene = pd.DataFrame(list(dipolarophiles_norbornene))\n",
    "df_oxonorbornadiene = pd.DataFrame(list(dipolarophiles_oxonorbornadiene))\n",
    "df_cyclooctyne = pd.DataFrame(list(dipolarophiles_cyclooctyne))"
   ]
  },
  {
   "cell_type": "code",
   "execution_count": 16,
   "metadata": {},
   "outputs": [],
   "source": [
    "# sample from the dataframes\n",
    "df_ethylene_sample = df_ethylene.sample(n=200, replace=True)\n",
    "df_acetylene_sample = df_acetylene.sample(n=200, replace=True)\n",
    "df_norbornene_sample = df_norbornene.sample(n=300, replace=True)\n",
    "df_oxonorbornadiene_sample = df_oxonorbornadiene.sample(n=300, replace=True)\n",
    "df_cyclooctyne_sample = df_cyclooctyne.sample(n=500, replace=True)"
   ]
  },
  {
   "cell_type": "code",
   "execution_count": 17,
   "metadata": {},
   "outputs": [],
   "source": [
    "# concatenate\n",
    "df_sample = pd.concat((df_ethylene_sample, df_acetylene_sample, df_norbornene_sample, df_oxonorbornadiene_sample, df_cyclooctyne_sample))\n",
    "df = pd.concat((df_ethylene, df_acetylene, df_norbornene, df_oxonorbornadiene, df_cyclooctyne))"
   ]
  },
  {
   "cell_type": "code",
   "execution_count": 19,
   "metadata": {},
   "outputs": [
    {
     "name": "stdout",
     "output_type": "stream",
     "text": [
      "1338 1500\n"
     ]
    }
   ],
   "source": [
    "print(len(df), len(df_sample))"
   ]
  },
  {
   "cell_type": "code",
   "execution_count": null,
   "metadata": {},
   "outputs": [],
   "source": [
    "df_sample.to_csv('dipolarophiles_sample.csv')\n",
    "df.to_csv('dipolarophiles.csv')"
   ]
  }
 ],
 "metadata": {
  "kernelspec": {
   "display_name": "chemprop2",
   "language": "python",
   "name": "chemprop2"
  },
  "language_info": {
   "codemirror_mode": {
    "name": "ipython",
    "version": 3
   },
   "file_extension": ".py",
   "mimetype": "text/x-python",
   "name": "python",
   "nbconvert_exporter": "python",
   "pygments_lexer": "ipython3",
   "version": "3.6.13"
  }
 },
 "nbformat": 4,
 "nbformat_minor": 2
}
